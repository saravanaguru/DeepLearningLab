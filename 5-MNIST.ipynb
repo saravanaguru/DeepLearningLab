{
 "cells": [
  {
   "cell_type": "markdown",
   "id": "6d8fbcd5-8d55-473a-947a-c4af2ff0be6e",
   "metadata": {},
   "source": [
    "# 🖥 Exercise: Perceptron Implementation on MNIST Dataset\n",
    "\n",
    "## 🎯 Learning Objective\n",
    "- Learn how to **load, preprocess, and handle real-world data** (MNIST handwritten digits).  \n",
    "- Understand the **Perceptron algorithm** for multi-class classification.  \n",
    "- Visualize the effect of **weights and biases** on predictions.  \n",
    "\n",
    "---\n",
    "\n",
    "## 🍎 Real-Life Analogy\n",
    "\n",
    "Imagine you are teaching a **robot teacher** 🤖 to recognize handwritten digits submitted by students.  \n",
    "- Each input image is like a **student’s handwriting sample**.  \n",
    "- The robot starts with random guesses (weights and bias) for each digit.  \n",
    "- Using **Perceptron learning**, the robot **corrects itself** whenever it misclassifies a digit — just like a teacher giving feedback after a wrong answer.  \n",
    "\n",
    "---\n",
    "\n",
    "## 🧩 Dataset Overview\n",
    "- Dataset: **MNIST** (handwritten digits 0–9)  \n",
    "- Input: 28×28 grayscale image → flattened to 784 features  \n",
    "- Output: 10 classes (digits 0–9)  \n",
    "- Training set: 60,000 samples  \n",
    "- Test set: 10,000 samples\n"
   ]
  },
  {
   "cell_type": "code",
   "execution_count": 1,
   "id": "e5c04037-b9b7-4097-83d4-b9130338b155",
   "metadata": {},
   "outputs": [
    {
     "name": "stdout",
     "output_type": "stream",
     "text": [
      "Downloading data from https://storage.googleapis.com/tensorflow/tf-keras-datasets/mnist.npz\n",
      "\u001b[1m11490434/11490434\u001b[0m \u001b[32m━━━━━━━━━━━━━━━━━━━━\u001b[0m\u001b[37m\u001b[0m \u001b[1m3s\u001b[0m 0us/step\n"
     ]
    },
    {
     "data": {
      "image/png": "[encoded data removed]",
      "text/plain": [
       "<Figure size 640x480 with 1 Axes>"
      ]
     },
     "metadata": {},
     "output_type": "display_data"
    }
   ],
   "source": [
    "# --------------------------\n",
    "# 1. Load and Explore MNIST\n",
    "# --------------------------\n",
    "import numpy as np\n",
    "from tensorflow.keras.datasets import mnist\n",
    "import matplotlib.pyplot as plt\n",
    "\n",
    "# Load MNIST data\n",
    "(X_train, y_train), (X_test, y_test) = mnist.load_data()\n",
    "\n",
    "# Normalize images to [0,1]\n",
    "X_train = X_train.reshape(-1, 28*28) / 255.0\n",
    "X_test = X_test.reshape(-1, 28*28) / 255.0\n",
    "\n",
    "# Check sample\n",
    "plt.imshow(X_train[0].reshape(28,28), cmap='gray')\n",
    "plt.title(f\"Label: {y_train[0]}\")\n",
    "plt.show()\n"
   ]
  },
  {
   "cell_type": "markdown",
   "id": "2a8d8a13-9dd9-464e-a4af-f08dbe467448",
   "metadata": {},
   "source": [
    "## 🧠 Perceptron Algorithm Overview\n",
    "\n",
    "- **Weights**: w (size 784×10)  \n",
    "- **Biases**: b (size 1×10)  \n",
    "- **Activation**: Step function → outputs 1 if weighted sum ≥ 0, else 0  \n",
    "- **Loss**: Misclassification error (update weights when prediction != target)  \n",
    "\n",
    "We will implement a **simple multi-class Perceptron** using one-hot encoding.\n"
   ]
  },
  {
   "cell_type": "code",
   "execution_count": 2,
   "id": "355048ef-6c3c-4140-9f1b-9dc666ea02d0",
   "metadata": {},
   "outputs": [
    {
     "name": "stdout",
     "output_type": "stream",
     "text": [
      "Epoch 1/5 completed\n",
      "Epoch 2/5 completed\n",
      "Epoch 3/5 completed\n",
      "Epoch 4/5 completed\n",
      "Epoch 5/5 completed\n"
     ]
    }
   ],
   "source": [
    "# --------------------------\n",
    "# 2. Helper Functions\n",
    "# --------------------------\n",
    "def one_hot(labels, num_classes=10):\n",
    "    return np.eye(num_classes)[labels]\n",
    "\n",
    "def step(x):\n",
    "    return np.where(x >= 0, 1, 0)\n",
    "\n",
    "# --------------------------\n",
    "# 3. Initialize Weights & Bias\n",
    "# --------------------------\n",
    "num_features = X_train.shape[1]\n",
    "num_classes = 10\n",
    "np.random.seed(42)\n",
    "W = np.random.randn(num_features, num_classes) * 0.01\n",
    "b = np.zeros((1, num_classes))\n",
    "\n",
    "# --------------------------\n",
    "# 4. Perceptron Training\n",
    "# --------------------------\n",
    "y_train_onehot = one_hot(y_train, num_classes)\n",
    "learning_rate = 0.01\n",
    "epochs = 5  # small number for demonstration\n",
    "\n",
    "for epoch in range(epochs):\n",
    "    for i in range(len(X_train)):\n",
    "        x = X_train[i].reshape(1, -1)           # 1x784\n",
    "        y_true = y_train_onehot[i].reshape(1,-1) # 1x10\n",
    "\n",
    "        # Forward pass\n",
    "        z = np.dot(x, W) + b\n",
    "        y_pred = step(z)\n",
    "\n",
    "        # Weight update\n",
    "        W += learning_rate * x.T.dot(y_true - y_pred)\n",
    "        b += learning_rate * (y_true - y_pred)\n",
    "\n",
    "    # Print progress\n",
    "    if epoch % 1 == 0:\n",
    "        print(f\"Epoch {epoch+1}/{epochs} completed\")\n"
   ]
  },
  {
   "cell_type": "markdown",
   "id": "9e3a21c6-4500-497a-9566-88f8638d7223",
   "metadata": {},
   "source": [
    "## ✅ Evaluate Model (on Test Set)\n",
    "\n",
    "- For each test image, compute prediction using trained weights.  \n",
    "- Calculate **accuracy** by comparing predicted label vs. true label.\n"
   ]
  },
  {
   "cell_type": "code",
   "execution_count": 3,
   "id": "1b088be7-cd1b-4be5-a0c7-8f2f442d4c6d",
   "metadata": {},
   "outputs": [
    {
     "name": "stdout",
     "output_type": "stream",
     "text": [
      "Perceptron Test Accuracy: 77.84%\n"
     ]
    }
   ],
   "source": [
    "# --------------------------\n",
    "# 5. Model Evaluation\n",
    "# --------------------------\n",
    "y_test_onehot = one_hot(y_test, num_classes)\n",
    "y_pred_test = step(np.dot(X_test, W) + b)\n",
    "y_pred_labels = np.argmax(y_pred_test, axis=1)\n",
    "\n",
    "accuracy = np.mean(y_pred_labels == y_test)\n",
    "print(f\"Perceptron Test Accuracy: {accuracy*100:.2f}%\")\n"
   ]
  },
  {
   "cell_type": "code",
   "execution_count": null,
   "id": "3a3d1e42-9623-4817-a776-1f4bb8011f19",
   "metadata": {},
   "outputs": [],
   "source": []
  }
 ],
 "metadata": {
  "kernelspec": {
   "display_name": "Python 3 (ipykernel)",
   "language": "python",
   "name": "python3"
  },
  "language_info": {
   "codemirror_mode": {
    "name": "ipython",
    "version": 3
   },
   "file_extension": ".py",
   "mimetype": "text/x-python",
   "name": "python",
   "nbconvert_exporter": "python",
   "pygments_lexer": "ipython3",
   "version": "3.10.10"
  }
 },
 "nbformat": 4,
 "nbformat_minor": 5
}
